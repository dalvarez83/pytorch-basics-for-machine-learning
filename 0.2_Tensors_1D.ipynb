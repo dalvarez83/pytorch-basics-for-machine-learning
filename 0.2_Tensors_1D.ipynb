{
 "cells": [
  {
   "cell_type": "markdown",
   "metadata": {},
   "source": [
    "Create an integer Tensor"
   ]
  },
  {
   "cell_type": "code",
   "execution_count": 1,
   "metadata": {},
   "outputs": [],
   "source": [
    "import torch\n",
    "a=torch.tensor([7,4,3,2,6])"
   ]
  },
  {
   "cell_type": "code",
   "execution_count": 12,
   "metadata": {},
   "outputs": [
    {
     "name": "stdout",
     "output_type": "stream",
     "text": [
      "tensor([7, 4, 3, 2, 6])\n",
      "torch.int64\n",
      "torch.LongTensor\n",
      "5\n"
     ]
    }
   ],
   "source": [
    "# examine the tensor\n",
    "print(a)\n",
    "print(a.dtype) # finds type of data attribute stored with the tensor\n",
    "print(a.type()) # finds type of tensor using the method type()\n",
    "print(len(a))"
   ]
  },
  {
   "cell_type": "code",
   "execution_count": 10,
   "metadata": {},
   "outputs": [
    {
     "name": "stdout",
     "output_type": "stream",
     "text": [
      "tensor(7)\n",
      "tensor(4)\n",
      "tensor(3)\n",
      "tensor(2)\n",
      "tensor(6)\n"
     ]
    }
   ],
   "source": [
    "for e in list(range(0,len(a))):\n",
    "    print(a[e])"
   ]
  },
  {
   "cell_type": "markdown",
   "metadata": {},
   "source": [
    "Create a float Tensor"
   ]
  },
  {
   "cell_type": "code",
   "execution_count": 13,
   "metadata": {},
   "outputs": [],
   "source": [
    "b = torch.tensor([0.0,1.0,2.0,3.0,4.0])"
   ]
  },
  {
   "cell_type": "code",
   "execution_count": 14,
   "metadata": {},
   "outputs": [
    {
     "name": "stdout",
     "output_type": "stream",
     "text": [
      "tensor([0., 1., 2., 3., 4.])\n",
      "torch.float32\n",
      "torch.FloatTensor\n",
      "5\n"
     ]
    }
   ],
   "source": [
    "print(b)\n",
    "print(b.dtype) # finds type of data attribute stored with the tensor\n",
    "print(b.type()) # finds type of tensor using the method type()\n",
    "print(len(b))"
   ]
  },
  {
   "cell_type": "markdown",
   "metadata": {},
   "source": [
    "Specify data type of Tensor within the constructor"
   ]
  },
  {
   "cell_type": "code",
   "execution_count": 15,
   "metadata": {},
   "outputs": [],
   "source": [
    "c = torch.tensor([0.0,1.0,2.0,3.0,4.0],dtype=torch.int32)"
   ]
  },
  {
   "cell_type": "code",
   "execution_count": 16,
   "metadata": {},
   "outputs": [
    {
     "name": "stdout",
     "output_type": "stream",
     "text": [
      "tensor([0, 1, 2, 3, 4], dtype=torch.int32)\n",
      "torch.int32\n",
      "torch.IntTensor\n",
      "5\n"
     ]
    }
   ],
   "source": [
    "print(c)\n",
    "print(c.dtype) # finds type of data attribute stored with the tensor\n",
    "print(c.type()) # finds type of tensor using the method type()\n",
    "print(len(c))"
   ]
  },
  {
   "cell_type": "markdown",
   "metadata": {},
   "source": [
    "Create a float Tensor by explicitly using the Float Tensor method, despite elements being integer"
   ]
  },
  {
   "cell_type": "code",
   "execution_count": 17,
   "metadata": {},
   "outputs": [],
   "source": [
    "d = torch.FloatTensor([0,1,2,3,4])"
   ]
  },
  {
   "cell_type": "code",
   "execution_count": 18,
   "metadata": {},
   "outputs": [
    {
     "name": "stdout",
     "output_type": "stream",
     "text": [
      "tensor([0., 1., 2., 3., 4.])\n",
      "torch.float32\n",
      "torch.FloatTensor\n",
      "5\n"
     ]
    }
   ],
   "source": [
    "print(d)\n",
    "print(d.dtype) # finds type of data attribute stored with the tensor\n",
    "print(d.type()) # finds type of tensor using the method type()\n",
    "print(len(d))"
   ]
  },
  {
   "cell_type": "markdown",
   "metadata": {},
   "source": [
    "Convert the type of tensor to float using the type method, passing in the argument torch.FloatTensor"
   ]
  },
  {
   "cell_type": "code",
   "execution_count": 19,
   "metadata": {},
   "outputs": [],
   "source": [
    "a = torch.tensor([0,1,2,3,4])\n",
    "a = a.type(torch.FloatTensor)"
   ]
  },
  {
   "cell_type": "code",
   "execution_count": 20,
   "metadata": {},
   "outputs": [
    {
     "name": "stdout",
     "output_type": "stream",
     "text": [
      "torch.float32\n",
      "torch.FloatTensor\n"
     ]
    }
   ],
   "source": [
    "print(a.dtype) # finds type of data attribute stored with the tensor\n",
    "print(a.type()) # finds type of tensor using the method type()"
   ]
  },
  {
   "cell_type": "code",
   "execution_count": 21,
   "metadata": {},
   "outputs": [
    {
     "data": {
      "text/plain": [
       "torch.Size([5])"
      ]
     },
     "execution_count": 21,
     "metadata": {},
     "output_type": "execute_result"
    }
   ],
   "source": [
    "a.size() #give the number of elements in the tensor"
   ]
  },
  {
   "cell_type": "code",
   "execution_count": 22,
   "metadata": {},
   "outputs": [
    {
     "data": {
      "text/plain": [
       "1"
      ]
     },
     "execution_count": 22,
     "metadata": {},
     "output_type": "execute_result"
    }
   ],
   "source": [
    "a.ndimension() #number of dimensions or the rank of the tensor"
   ]
  },
  {
   "cell_type": "markdown",
   "metadata": {},
   "source": [
    "Convert the 1-D tensor into a 2-D tensor using the view method"
   ]
  },
  {
   "cell_type": "code",
   "execution_count": 26,
   "metadata": {},
   "outputs": [],
   "source": [
    "# the first argument of the view method represents the number of rows; \n",
    "# the second argument represents the number of columns\n",
    "a_col = a.view(5,1)\n",
    "b_col = a.view(-1,1)"
   ]
  },
  {
   "cell_type": "code",
   "execution_count": 29,
   "metadata": {},
   "outputs": [
    {
     "name": "stdout",
     "output_type": "stream",
     "text": [
      "2\n",
      "2\n"
     ]
    }
   ],
   "source": [
    "# check dimension\n",
    "print(a_col.ndimension())\n",
    "print(b_col.ndimension())"
   ]
  },
  {
   "cell_type": "code",
   "execution_count": 33,
   "metadata": {},
   "outputs": [
    {
     "name": "stdout",
     "output_type": "stream",
     "text": [
      "tensor([[0.],\n",
      "        [1.],\n",
      "        [2.],\n",
      "        [3.],\n",
      "        [4.],\n",
      "        [5.]])\n",
      "2\n",
      "torch.FloatTensor\n"
     ]
    }
   ],
   "source": [
    "c = torch.Tensor([0,1,2,3,4,5])\n",
    "c_col = c.view(6,1)\n",
    "print(c_col)\n",
    "print(c_col.ndimension())\n",
    "print(c_col.type())"
   ]
  },
  {
   "cell_type": "markdown",
   "metadata": {},
   "source": [
    "Convert numpy array to a Torch array"
   ]
  },
  {
   "cell_type": "code",
   "execution_count": 59,
   "metadata": {},
   "outputs": [
    {
     "name": "stdout",
     "output_type": "stream",
     "text": [
      "float64\n",
      "<class 'numpy.ndarray'>\n",
      "torch.float32\n",
      "torch.FloatTensor\n"
     ]
    }
   ],
   "source": [
    "import numpy as np\n",
    "a = np.array([0.0,1.0,2.0,3.0,4.0])\n",
    "print(a.dtype)\n",
    "print(type(a))\n",
    "\n",
    "#torch_tensor =torch.from_numpy(np.array(b))\n",
    "\n",
    "torch_tensor = torch.as_tensor(a.astype('float'))\n",
    "#torch_tensor = torch.from_numpy(a)\n",
    "print(torch_tensor.dtype) # finds type of data attribute stored with the tensor\n",
    "print(torch_tensor.type())"
   ]
  },
  {
   "cell_type": "markdown",
   "metadata": {},
   "source": [
    "Convert tensor back to numpy array using the method numpy()"
   ]
  },
  {
   "cell_type": "code",
   "execution_count": 62,
   "metadata": {},
   "outputs": [
    {
     "name": "stdout",
     "output_type": "stream",
     "text": [
      "<class 'numpy.ndarray'>\n"
     ]
    }
   ],
   "source": [
    "back_to_array = torch_tensor.numpy()\n",
    "print(type(back_to_array))"
   ]
  },
  {
   "cell_type": "markdown",
   "metadata": {},
   "source": [
    "Convert a pandas series to a tensor in a similar manner"
   ]
  },
  {
   "cell_type": "code",
   "execution_count": 65,
   "metadata": {},
   "outputs": [
    {
     "name": "stdout",
     "output_type": "stream",
     "text": [
      "torch.float32\n",
      "torch.FloatTensor\n"
     ]
    }
   ],
   "source": [
    "import pandas as pd\n",
    "pandas_series = pd.Series([0.1,2,0.3,0.1])\n",
    "#pandas_to_torch = torch.from_numpy(pandas_series.values)\n",
    "pandas_to_torch = torch.as_tensor(pandas_series.values)\n",
    "print(pandas_to_torch.dtype) # finds type of data attribute stored with the tensor\n",
    "print(pandas_to_torch.type())"
   ]
  },
  {
   "cell_type": "markdown",
   "metadata": {},
   "source": [
    "Return a list from a tensor using `to_list`"
   ]
  },
  {
   "cell_type": "code",
   "execution_count": 69,
   "metadata": {},
   "outputs": [
    {
     "name": "stdout",
     "output_type": "stream",
     "text": [
      "<class 'list'>\n"
     ]
    }
   ],
   "source": [
    "this_tensor = torch.tensor([0,1,2,3])\n",
    "torch_to_list = this_tensor.tolist()\n",
    "print(type(torch_to_list))"
   ]
  },
  {
   "cell_type": "markdown",
   "metadata": {},
   "source": [
    "Individual values of a tensor are also tensors"
   ]
  },
  {
   "cell_type": "code",
   "execution_count": 74,
   "metadata": {},
   "outputs": [
    {
     "name": "stdout",
     "output_type": "stream",
     "text": [
      "tensor(5)\n",
      "tensor(2)\n",
      "tensor(6)\n",
      "tensor(1)\n"
     ]
    }
   ],
   "source": [
    "new_tensor = torch.tensor([5,2,6,1])\n",
    "for e in list(range(len(new_tensor))):\n",
    "    print(new_tensor[e])"
   ]
  },
  {
   "cell_type": "code",
   "execution_count": 77,
   "metadata": {},
   "outputs": [
    {
     "name": "stdout",
     "output_type": "stream",
     "text": [
      "5\n",
      "2\n",
      "6\n",
      "1\n"
     ]
    }
   ],
   "source": [
    "# work a Python number instead of a tensor using the `item` method\n",
    "for e in list(range(len(new_tensor))):\n",
    "    print(new_tensor[e].item())"
   ]
  },
  {
   "cell_type": "markdown",
   "metadata": {},
   "source": [
    "#### Slicing and indexing"
   ]
  },
  {
   "cell_type": "markdown",
   "metadata": {},
   "source": [
    "Change particular values stored in a tensor"
   ]
  },
  {
   "cell_type": "code",
   "execution_count": 82,
   "metadata": {},
   "outputs": [
    {
     "name": "stdout",
     "output_type": "stream",
     "text": [
      "tensor([100,   1,   2,   3,   0])\n",
      "100\n",
      "1\n",
      "2\n",
      "3\n",
      "0\n"
     ]
    }
   ],
   "source": [
    "c= torch.tensor([20,1,2,3,4])\n",
    "c[0]=100\n",
    "c[4]=0\n",
    "print(c)\n",
    "for e in list(range(len(c))):\n",
    "    print(c[e].item())"
   ]
  },
  {
   "cell_type": "markdown",
   "metadata": {},
   "source": [
    "Select elements from 1 to 3 and assign it to a new Torch tensor `d` as follows"
   ]
  },
  {
   "cell_type": "code",
   "execution_count": 83,
   "metadata": {},
   "outputs": [
    {
     "name": "stdout",
     "output_type": "stream",
     "text": [
      "tensor([1, 2, 3])\n"
     ]
    }
   ],
   "source": [
    "d=c[1:4]\n",
    "print(d)"
   ]
  },
  {
   "cell_type": "markdown",
   "metadata": {},
   "source": [
    "Assign indexes in a tensor to new values"
   ]
  },
  {
   "cell_type": "code",
   "execution_count": 84,
   "metadata": {},
   "outputs": [
    {
     "name": "stdout",
     "output_type": "stream",
     "text": [
      "tensor([100,   1,   2, 300, 400])\n"
     ]
    }
   ],
   "source": [
    "c[3:5] = torch.tensor([300.0,400.0])\n",
    "print(c)"
   ]
  },
  {
   "cell_type": "markdown",
   "metadata": {},
   "source": [
    "#### Basic operations"
   ]
  },
  {
   "cell_type": "markdown",
   "metadata": {},
   "source": [
    "Vector addition and subtraction"
   ]
  },
  {
   "cell_type": "code",
   "execution_count": 85,
   "metadata": {},
   "outputs": [
    {
     "name": "stdout",
     "output_type": "stream",
     "text": [
      "tensor([1., 1.])\n"
     ]
    }
   ],
   "source": [
    "u=torch.tensor([1.0,0.0])\n",
    "v=torch.tensor([0.0,1.0])\n",
    "z=u+v\n",
    "print(z)"
   ]
  },
  {
   "cell_type": "markdown",
   "metadata": {},
   "source": [
    "Vector multiplication with a scalar"
   ]
  },
  {
   "cell_type": "code",
   "execution_count": 86,
   "metadata": {},
   "outputs": [
    {
     "name": "stdout",
     "output_type": "stream",
     "text": [
      "tensor([2, 4])\n"
     ]
    }
   ],
   "source": [
    "y=torch.tensor([1,2])\n",
    "z=2*y\n",
    "print(z)"
   ]
  },
  {
   "cell_type": "markdown",
   "metadata": {},
   "source": [
    "Hadamard product (entry-wise) of two vectors"
   ]
  },
  {
   "cell_type": "code",
   "execution_count": 87,
   "metadata": {},
   "outputs": [
    {
     "name": "stdout",
     "output_type": "stream",
     "text": [
      "tensor([3, 4])\n"
     ]
    }
   ],
   "source": [
    "u=torch.tensor([1,2])\n",
    "v=torch.tensor([3,2])\n",
    "z=u*v\n",
    "print(z)"
   ]
  },
  {
   "cell_type": "markdown",
   "metadata": {},
   "source": [
    "Perform dot product using the pytorch function `dot` and assign it the tensor `result`"
   ]
  },
  {
   "cell_type": "code",
   "execution_count": 91,
   "metadata": {},
   "outputs": [
    {
     "name": "stdout",
     "output_type": "stream",
     "text": [
      "tensor(7)\n",
      "torch.int64\n"
     ]
    }
   ],
   "source": [
    "u=torch.tensor([1,2])\n",
    "v=torch.tensor([3,2])\n",
    "result=torch.dot(u,v)\n",
    "print(result)\n",
    "print(result.dtype)"
   ]
  },
  {
   "cell_type": "markdown",
   "metadata": {},
   "source": [
    "Adding a constant to a tensor"
   ]
  },
  {
   "cell_type": "code",
   "execution_count": 92,
   "metadata": {},
   "outputs": [
    {
     "name": "stdout",
     "output_type": "stream",
     "text": [
      "tensor([2, 3, 4, 0])\n"
     ]
    }
   ],
   "source": [
    "#adding a scalar value to a tensor, PyTorch adds the value to each element in the tensor. This is known as broadcasting\n",
    "u = torch.tensor([1,2,3,-1])\n",
    "z=u+1\n",
    "print(z) "
   ]
  },
  {
   "cell_type": "markdown",
   "metadata": {},
   "source": [
    "#### Universal functions"
   ]
  },
  {
   "cell_type": "code",
   "execution_count": 96,
   "metadata": {},
   "outputs": [
    {
     "name": "stdout",
     "output_type": "stream",
     "text": [
      "tensor(0.)\n"
     ]
    }
   ],
   "source": [
    "a=torch.FloatTensor([1,-1,1,-1])\n",
    "mean_a=a.mean()\n",
    "print(mean_a)"
   ]
  },
  {
   "cell_type": "code",
   "execution_count": 97,
   "metadata": {},
   "outputs": [
    {
     "name": "stdout",
     "output_type": "stream",
     "text": [
      "tensor(5.)\n"
     ]
    }
   ],
   "source": [
    "b=torch.FloatTensor([1,-2,3,4,5])\n",
    "max_b=b.max()\n",
    "print(max_b)"
   ]
  },
  {
   "cell_type": "markdown",
   "metadata": {},
   "source": [
    "We can use torch to create functions that map tensor to new torch tensors"
   ]
  },
  {
   "cell_type": "code",
   "execution_count": 99,
   "metadata": {},
   "outputs": [
    {
     "name": "stdout",
     "output_type": "stream",
     "text": [
      "tensor([ 0.0000e+00,  1.0000e+00, -8.7423e-08])\n"
     ]
    }
   ],
   "source": [
    "x=torch.FloatTensor([0,np.pi/2,np.pi])\n",
    "y=torch.sin(x) #apply sine function to each component of the vector\n",
    "print(y)"
   ]
  },
  {
   "cell_type": "markdown",
   "metadata": {},
   "source": [
    "Linespace for plotting mathematical functions"
   ]
  },
  {
   "cell_type": "code",
   "execution_count": 101,
   "metadata": {},
   "outputs": [
    {
     "name": "stdout",
     "output_type": "stream",
     "text": [
      "tensor([-2., -1.,  0.,  1.,  2.])\n"
     ]
    }
   ],
   "source": [
    "x=torch.linspace(-2,2,steps=5)\n",
    "print(x)"
   ]
  },
  {
   "cell_type": "code",
   "execution_count": 107,
   "metadata": {},
   "outputs": [
    {
     "name": "stdout",
     "output_type": "stream",
     "text": [
      "tensor([-2.0000, -1.5000, -1.0000, -0.5000,  0.0000,  0.5000,  1.0000,  1.5000,\n",
      "         2.0000])\n"
     ]
    }
   ],
   "source": [
    "#we can change the third parameter argument to 9, to get 9 evenly spread numbers over the interval from -2 to 2.\n",
    "y=torch.linspace(-2,2,9) \n",
    "print(y)"
   ]
  },
  {
   "cell_type": "code",
   "execution_count": 108,
   "metadata": {},
   "outputs": [
    {
     "name": "stdout",
     "output_type": "stream",
     "text": [
      "tensor([ 0.0000e+00,  6.3424e-02,  1.2659e-01,  1.8925e-01,  2.5115e-01,\n",
      "         3.1203e-01,  3.7166e-01,  4.2979e-01,  4.8620e-01,  5.4064e-01,\n",
      "         5.9291e-01,  6.4279e-01,  6.9008e-01,  7.3459e-01,  7.7615e-01,\n",
      "         8.1458e-01,  8.4973e-01,  8.8145e-01,  9.0963e-01,  9.3415e-01,\n",
      "         9.5490e-01,  9.7181e-01,  9.8481e-01,  9.9384e-01,  9.9887e-01,\n",
      "         9.9987e-01,  9.9685e-01,  9.8982e-01,  9.7880e-01,  9.6384e-01,\n",
      "         9.4500e-01,  9.2235e-01,  8.9599e-01,  8.6603e-01,  8.3257e-01,\n",
      "         7.9576e-01,  7.5575e-01,  7.1269e-01,  6.6677e-01,  6.1816e-01,\n",
      "         5.6706e-01,  5.1368e-01,  4.5823e-01,  4.0093e-01,  3.4202e-01,\n",
      "         2.8173e-01,  2.2031e-01,  1.5800e-01,  9.5056e-02,  3.1728e-02,\n",
      "        -3.1728e-02, -9.5056e-02, -1.5800e-01, -2.2031e-01, -2.8173e-01,\n",
      "        -3.4202e-01, -4.0093e-01, -4.5823e-01, -5.1368e-01, -5.6706e-01,\n",
      "        -6.1816e-01, -6.6677e-01, -7.1269e-01, -7.5575e-01, -7.9576e-01,\n",
      "        -8.3257e-01, -8.6603e-01, -8.9599e-01, -9.2235e-01, -9.4500e-01,\n",
      "        -9.6384e-01, -9.7880e-01, -9.8982e-01, -9.9685e-01, -9.9987e-01,\n",
      "        -9.9887e-01, -9.9384e-01, -9.8481e-01, -9.7181e-01, -9.5490e-01,\n",
      "        -9.3415e-01, -9.0963e-01, -8.8145e-01, -8.4973e-01, -8.1458e-01,\n",
      "        -7.7615e-01, -7.3459e-01, -6.9008e-01, -6.4279e-01, -5.9291e-01,\n",
      "        -5.4064e-01, -4.8620e-01, -4.2979e-01, -3.7166e-01, -3.1203e-01,\n",
      "        -2.5115e-01, -1.8925e-01, -1.2659e-01, -6.3424e-02,  1.7485e-07])\n"
     ]
    }
   ],
   "source": [
    "#generate 100 evenly spaced samples from the interval 0 to 2*pi\n",
    "x=torch.linspace(0,2*np.pi,100) \n",
    "y=torch.sin(x) #\n",
    "print(y)"
   ]
  },
  {
   "cell_type": "code",
   "execution_count": 109,
   "metadata": {},
   "outputs": [
    {
     "data": {
      "text/plain": [
       "[<matplotlib.lines.Line2D at 0x12e19fe48>]"
      ]
     },
     "execution_count": 109,
     "metadata": {},
     "output_type": "execute_result"
    },
    {
     "data": {
      "image/png": "[encoded data removed]",
      "text/plain": [
       "<Figure size 432x288 with 1 Axes>"
      ]
     },
     "metadata": {
      "needs_background": "light"
     },
     "output_type": "display_data"
    }
   ],
   "source": [
    "# convert elements to numpy arrays and plot\n",
    "import matplotlib.pyplot as plt\n",
    "%matplotlib inline\n",
    "plt.plot(x.numpy(),y.numpy()) "
   ]
  },
  {
   "cell_type": "markdown",
   "metadata": {},
   "source": [
    "### Quiz "
   ]
  },
  {
   "cell_type": "code",
   "execution_count": 2,
   "metadata": {},
   "outputs": [
    {
     "data": {
      "text/plain": [
       "tensor([9, 8])"
      ]
     },
     "execution_count": 2,
     "metadata": {},
     "output_type": "execute_result"
    }
   ],
   "source": [
    "a = torch.tensor([10,9,8,7])\n",
    "a[1:3]"
   ]
  },
  {
   "cell_type": "code",
   "execution_count": 3,
   "metadata": {},
   "outputs": [
    {
     "data": {
      "text/plain": [
       "tensor(2)"
      ]
     },
     "execution_count": 3,
     "metadata": {},
     "output_type": "execute_result"
    }
   ],
   "source": [
    "u=torch.tensor([1,2])\n",
    "v=torch.tensor([0,1])\n",
    "torch.dot(u, v)"
   ]
  },
  {
   "cell_type": "code",
   "execution_count": 4,
   "metadata": {},
   "outputs": [
    {
     "data": {
      "text/plain": [
       "torch.int64"
      ]
     },
     "execution_count": 4,
     "metadata": {},
     "output_type": "execute_result"
    }
   ],
   "source": [
    "a=torch.tensor([1,2,3])\n",
    "a.dtype"
   ]
  },
  {
   "cell_type": "code",
   "execution_count": null,
   "metadata": {},
   "outputs": [],
   "source": []
  }
 ],
 "metadata": {
  "kernelspec": {
   "display_name": "Python 3",
   "language": "python",
   "name": "python3"
  },
  "language_info": {
   "codemirror_mode": {
    "name": "ipython",
    "version": 3
   },
   "file_extension": ".py",
   "mimetype": "text/x-python",
   "name": "python",
   "nbconvert_exporter": "python",
   "pygments_lexer": "ipython3",
   "version": "3.6.10"
  }
 },
 "nbformat": 4,
 "nbformat_minor": 4
}
